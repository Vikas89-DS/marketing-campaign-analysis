{
 "cells": [
  {
   "cell_type": "markdown",
   "id": "4f93ea7f",
   "metadata": {},
   "source": [
    "# Importing Libraries"
   ]
  },
  {
   "cell_type": "code",
   "execution_count": 1,
   "id": "72d36a14",
   "metadata": {},
   "outputs": [],
   "source": [
    "import pandas as pd\n",
    "import numpy as np\n",
    "import matplotlib.pyplot as plt\n",
    "import seaborn as sns\n",
    "pd.set_option('display.max_columns', None)"
   ]
  },
  {
   "cell_type": "markdown",
   "id": "af302128",
   "metadata": {},
   "source": [
    "# Data Import"
   ]
  },
  {
   "cell_type": "code",
   "execution_count": 2,
   "id": "830149af",
   "metadata": {},
   "outputs": [
    {
     "data": {
      "text/html": [
       "<div>\n",
       "<style scoped>\n",
       "    .dataframe tbody tr th:only-of-type {\n",
       "        vertical-align: middle;\n",
       "    }\n",
       "\n",
       "    .dataframe tbody tr th {\n",
       "        vertical-align: top;\n",
       "    }\n",
       "\n",
       "    .dataframe thead th {\n",
       "        text-align: right;\n",
       "    }\n",
       "</style>\n",
       "<table border=\"1\" class=\"dataframe\">\n",
       "  <thead>\n",
       "    <tr style=\"text-align: right;\">\n",
       "      <th></th>\n",
       "      <th>Campaign_ID</th>\n",
       "      <th>Company</th>\n",
       "      <th>Campaign_Type</th>\n",
       "      <th>Target_Audience</th>\n",
       "      <th>Duration</th>\n",
       "      <th>Channel_Used</th>\n",
       "      <th>Conversion_Rate</th>\n",
       "      <th>Acquisition_Cost</th>\n",
       "      <th>ROI</th>\n",
       "      <th>Location</th>\n",
       "      <th>Language</th>\n",
       "      <th>Clicks</th>\n",
       "      <th>Impressions</th>\n",
       "      <th>Engagement_Score</th>\n",
       "      <th>Customer_Segment</th>\n",
       "      <th>Date</th>\n",
       "    </tr>\n",
       "  </thead>\n",
       "  <tbody>\n",
       "    <tr>\n",
       "      <th>0</th>\n",
       "      <td>1</td>\n",
       "      <td>Innovate Industries</td>\n",
       "      <td>Email</td>\n",
       "      <td>Men 18-24</td>\n",
       "      <td>30 days</td>\n",
       "      <td>Google Ads</td>\n",
       "      <td>0.04</td>\n",
       "      <td>$16,174.00</td>\n",
       "      <td>6.29</td>\n",
       "      <td>Chicago</td>\n",
       "      <td>Spanish</td>\n",
       "      <td>506</td>\n",
       "      <td>1922</td>\n",
       "      <td>6</td>\n",
       "      <td>Health &amp; Wellness</td>\n",
       "      <td>2021-01-01</td>\n",
       "    </tr>\n",
       "    <tr>\n",
       "      <th>1</th>\n",
       "      <td>2</td>\n",
       "      <td>NexGen Systems</td>\n",
       "      <td>Email</td>\n",
       "      <td>Women 35-44</td>\n",
       "      <td>60 days</td>\n",
       "      <td>Google Ads</td>\n",
       "      <td>0.12</td>\n",
       "      <td>$11,566.00</td>\n",
       "      <td>5.61</td>\n",
       "      <td>New York</td>\n",
       "      <td>German</td>\n",
       "      <td>116</td>\n",
       "      <td>7523</td>\n",
       "      <td>7</td>\n",
       "      <td>Fashionistas</td>\n",
       "      <td>2021-01-02</td>\n",
       "    </tr>\n",
       "    <tr>\n",
       "      <th>2</th>\n",
       "      <td>3</td>\n",
       "      <td>Alpha Innovations</td>\n",
       "      <td>Influencer</td>\n",
       "      <td>Men 25-34</td>\n",
       "      <td>30 days</td>\n",
       "      <td>YouTube</td>\n",
       "      <td>0.07</td>\n",
       "      <td>$10,200.00</td>\n",
       "      <td>7.18</td>\n",
       "      <td>Los Angeles</td>\n",
       "      <td>French</td>\n",
       "      <td>584</td>\n",
       "      <td>7698</td>\n",
       "      <td>1</td>\n",
       "      <td>Outdoor Adventurers</td>\n",
       "      <td>2021-01-03</td>\n",
       "    </tr>\n",
       "    <tr>\n",
       "      <th>3</th>\n",
       "      <td>4</td>\n",
       "      <td>DataTech Solutions</td>\n",
       "      <td>Display</td>\n",
       "      <td>All Ages</td>\n",
       "      <td>60 days</td>\n",
       "      <td>YouTube</td>\n",
       "      <td>0.11</td>\n",
       "      <td>$12,724.00</td>\n",
       "      <td>5.55</td>\n",
       "      <td>Miami</td>\n",
       "      <td>Mandarin</td>\n",
       "      <td>217</td>\n",
       "      <td>1820</td>\n",
       "      <td>7</td>\n",
       "      <td>Health &amp; Wellness</td>\n",
       "      <td>2021-01-04</td>\n",
       "    </tr>\n",
       "    <tr>\n",
       "      <th>4</th>\n",
       "      <td>5</td>\n",
       "      <td>NexGen Systems</td>\n",
       "      <td>Email</td>\n",
       "      <td>Men 25-34</td>\n",
       "      <td>15 days</td>\n",
       "      <td>YouTube</td>\n",
       "      <td>0.05</td>\n",
       "      <td>$16,452.00</td>\n",
       "      <td>6.50</td>\n",
       "      <td>Los Angeles</td>\n",
       "      <td>Mandarin</td>\n",
       "      <td>379</td>\n",
       "      <td>4201</td>\n",
       "      <td>3</td>\n",
       "      <td>Health &amp; Wellness</td>\n",
       "      <td>2021-01-05</td>\n",
       "    </tr>\n",
       "    <tr>\n",
       "      <th>...</th>\n",
       "      <td>...</td>\n",
       "      <td>...</td>\n",
       "      <td>...</td>\n",
       "      <td>...</td>\n",
       "      <td>...</td>\n",
       "      <td>...</td>\n",
       "      <td>...</td>\n",
       "      <td>...</td>\n",
       "      <td>...</td>\n",
       "      <td>...</td>\n",
       "      <td>...</td>\n",
       "      <td>...</td>\n",
       "      <td>...</td>\n",
       "      <td>...</td>\n",
       "      <td>...</td>\n",
       "      <td>...</td>\n",
       "    </tr>\n",
       "    <tr>\n",
       "      <th>199995</th>\n",
       "      <td>199996</td>\n",
       "      <td>TechCorp</td>\n",
       "      <td>Display</td>\n",
       "      <td>All Ages</td>\n",
       "      <td>30 days</td>\n",
       "      <td>Google Ads</td>\n",
       "      <td>0.06</td>\n",
       "      <td>$18,365.00</td>\n",
       "      <td>2.84</td>\n",
       "      <td>Chicago</td>\n",
       "      <td>German</td>\n",
       "      <td>858</td>\n",
       "      <td>5988</td>\n",
       "      <td>1</td>\n",
       "      <td>Tech Enthusiasts</td>\n",
       "      <td>2021-12-07</td>\n",
       "    </tr>\n",
       "    <tr>\n",
       "      <th>199996</th>\n",
       "      <td>199997</td>\n",
       "      <td>DataTech Solutions</td>\n",
       "      <td>Email</td>\n",
       "      <td>Men 25-34</td>\n",
       "      <td>15 days</td>\n",
       "      <td>Facebook</td>\n",
       "      <td>0.02</td>\n",
       "      <td>$8,168.00</td>\n",
       "      <td>4.14</td>\n",
       "      <td>Chicago</td>\n",
       "      <td>Spanish</td>\n",
       "      <td>228</td>\n",
       "      <td>3068</td>\n",
       "      <td>7</td>\n",
       "      <td>Foodies</td>\n",
       "      <td>2021-12-08</td>\n",
       "    </tr>\n",
       "    <tr>\n",
       "      <th>199997</th>\n",
       "      <td>199998</td>\n",
       "      <td>DataTech Solutions</td>\n",
       "      <td>Social Media</td>\n",
       "      <td>Men 18-24</td>\n",
       "      <td>45 days</td>\n",
       "      <td>Website</td>\n",
       "      <td>0.05</td>\n",
       "      <td>$13,397.00</td>\n",
       "      <td>3.25</td>\n",
       "      <td>New York</td>\n",
       "      <td>Mandarin</td>\n",
       "      <td>723</td>\n",
       "      <td>9548</td>\n",
       "      <td>3</td>\n",
       "      <td>Tech Enthusiasts</td>\n",
       "      <td>2021-12-09</td>\n",
       "    </tr>\n",
       "    <tr>\n",
       "      <th>199998</th>\n",
       "      <td>199999</td>\n",
       "      <td>Innovate Industries</td>\n",
       "      <td>Influencer</td>\n",
       "      <td>All Ages</td>\n",
       "      <td>30 days</td>\n",
       "      <td>YouTube</td>\n",
       "      <td>0.10</td>\n",
       "      <td>$18,508.00</td>\n",
       "      <td>3.86</td>\n",
       "      <td>Houston</td>\n",
       "      <td>French</td>\n",
       "      <td>528</td>\n",
       "      <td>2763</td>\n",
       "      <td>1</td>\n",
       "      <td>Foodies</td>\n",
       "      <td>2021-12-10</td>\n",
       "    </tr>\n",
       "    <tr>\n",
       "      <th>199999</th>\n",
       "      <td>200000</td>\n",
       "      <td>Innovate Industries</td>\n",
       "      <td>Social Media</td>\n",
       "      <td>Women 35-44</td>\n",
       "      <td>45 days</td>\n",
       "      <td>Google Ads</td>\n",
       "      <td>0.01</td>\n",
       "      <td>$13,835.00</td>\n",
       "      <td>6.64</td>\n",
       "      <td>Chicago</td>\n",
       "      <td>Spanish</td>\n",
       "      <td>924</td>\n",
       "      <td>7287</td>\n",
       "      <td>8</td>\n",
       "      <td>Tech Enthusiasts</td>\n",
       "      <td>2021-12-11</td>\n",
       "    </tr>\n",
       "  </tbody>\n",
       "</table>\n",
       "<p>200000 rows × 16 columns</p>\n",
       "</div>"
      ],
      "text/plain": [
       "        Campaign_ID              Company Campaign_Type Target_Audience  \\\n",
       "0                 1  Innovate Industries         Email       Men 18-24   \n",
       "1                 2       NexGen Systems         Email     Women 35-44   \n",
       "2                 3    Alpha Innovations    Influencer       Men 25-34   \n",
       "3                 4   DataTech Solutions       Display        All Ages   \n",
       "4                 5       NexGen Systems         Email       Men 25-34   \n",
       "...             ...                  ...           ...             ...   \n",
       "199995       199996             TechCorp       Display        All Ages   \n",
       "199996       199997   DataTech Solutions         Email       Men 25-34   \n",
       "199997       199998   DataTech Solutions  Social Media       Men 18-24   \n",
       "199998       199999  Innovate Industries    Influencer        All Ages   \n",
       "199999       200000  Innovate Industries  Social Media     Women 35-44   \n",
       "\n",
       "       Duration Channel_Used  Conversion_Rate Acquisition_Cost   ROI  \\\n",
       "0       30 days   Google Ads             0.04       $16,174.00  6.29   \n",
       "1       60 days   Google Ads             0.12       $11,566.00  5.61   \n",
       "2       30 days      YouTube             0.07       $10,200.00  7.18   \n",
       "3       60 days      YouTube             0.11       $12,724.00  5.55   \n",
       "4       15 days      YouTube             0.05       $16,452.00  6.50   \n",
       "...         ...          ...              ...              ...   ...   \n",
       "199995  30 days   Google Ads             0.06       $18,365.00  2.84   \n",
       "199996  15 days     Facebook             0.02        $8,168.00  4.14   \n",
       "199997  45 days      Website             0.05       $13,397.00  3.25   \n",
       "199998  30 days      YouTube             0.10       $18,508.00  3.86   \n",
       "199999  45 days   Google Ads             0.01       $13,835.00  6.64   \n",
       "\n",
       "           Location  Language  Clicks  Impressions  Engagement_Score  \\\n",
       "0           Chicago   Spanish     506         1922                 6   \n",
       "1          New York    German     116         7523                 7   \n",
       "2       Los Angeles    French     584         7698                 1   \n",
       "3             Miami  Mandarin     217         1820                 7   \n",
       "4       Los Angeles  Mandarin     379         4201                 3   \n",
       "...             ...       ...     ...          ...               ...   \n",
       "199995      Chicago    German     858         5988                 1   \n",
       "199996      Chicago   Spanish     228         3068                 7   \n",
       "199997     New York  Mandarin     723         9548                 3   \n",
       "199998      Houston    French     528         2763                 1   \n",
       "199999      Chicago   Spanish     924         7287                 8   \n",
       "\n",
       "           Customer_Segment        Date  \n",
       "0         Health & Wellness  2021-01-01  \n",
       "1              Fashionistas  2021-01-02  \n",
       "2       Outdoor Adventurers  2021-01-03  \n",
       "3         Health & Wellness  2021-01-04  \n",
       "4         Health & Wellness  2021-01-05  \n",
       "...                     ...         ...  \n",
       "199995     Tech Enthusiasts  2021-12-07  \n",
       "199996              Foodies  2021-12-08  \n",
       "199997     Tech Enthusiasts  2021-12-09  \n",
       "199998              Foodies  2021-12-10  \n",
       "199999     Tech Enthusiasts  2021-12-11  \n",
       "\n",
       "[200000 rows x 16 columns]"
      ]
     },
     "execution_count": 2,
     "metadata": {},
     "output_type": "execute_result"
    }
   ],
   "source": [
    "data = pd.read_csv(\"D:\\\\Vikas\\\\DataSets\\\\marketing_campaign_dataset.csv\")\n",
    "data"
   ]
  },
  {
   "cell_type": "code",
   "execution_count": 3,
   "id": "b47c45ac",
   "metadata": {},
   "outputs": [
    {
     "name": "stdout",
     "output_type": "stream",
     "text": [
      "<class 'pandas.core.frame.DataFrame'>\n",
      "RangeIndex: 200000 entries, 0 to 199999\n",
      "Data columns (total 16 columns):\n",
      " #   Column            Non-Null Count   Dtype  \n",
      "---  ------            --------------   -----  \n",
      " 0   Campaign_ID       200000 non-null  int64  \n",
      " 1   Company           200000 non-null  object \n",
      " 2   Campaign_Type     200000 non-null  object \n",
      " 3   Target_Audience   200000 non-null  object \n",
      " 4   Duration          200000 non-null  object \n",
      " 5   Channel_Used      200000 non-null  object \n",
      " 6   Conversion_Rate   200000 non-null  float64\n",
      " 7   Acquisition_Cost  200000 non-null  object \n",
      " 8   ROI               200000 non-null  float64\n",
      " 9   Location          200000 non-null  object \n",
      " 10  Language          200000 non-null  object \n",
      " 11  Clicks            200000 non-null  int64  \n",
      " 12  Impressions       200000 non-null  int64  \n",
      " 13  Engagement_Score  200000 non-null  int64  \n",
      " 14  Customer_Segment  200000 non-null  object \n",
      " 15  Date              200000 non-null  object \n",
      "dtypes: float64(2), int64(4), object(10)\n",
      "memory usage: 24.4+ MB\n"
     ]
    }
   ],
   "source": [
    "data.info()"
   ]
  },
  {
   "cell_type": "code",
   "execution_count": 4,
   "id": "37152f21",
   "metadata": {},
   "outputs": [
    {
     "data": {
      "text/plain": [
       "0"
      ]
     },
     "execution_count": 4,
     "metadata": {},
     "output_type": "execute_result"
    }
   ],
   "source": [
    "data.duplicated().sum()"
   ]
  },
  {
   "cell_type": "markdown",
   "id": "69269299",
   "metadata": {},
   "source": [
    "# Data Exploration"
   ]
  },
  {
   "cell_type": "code",
   "execution_count": 5,
   "id": "6cd2746f",
   "metadata": {},
   "outputs": [],
   "source": [
    "#changing date to datetime format\n",
    "data['Date'] = pd.to_datetime(data['Date'])"
   ]
  },
  {
   "cell_type": "code",
   "execution_count": 6,
   "id": "28383551",
   "metadata": {},
   "outputs": [],
   "source": [
    "#cleaning the symbols from data\n",
    "data['Acquisition_Cost'] = pd.to_numeric(data['Acquisition_Cost'].replace({'\\$':'', ',':''}, regex=True))"
   ]
  },
  {
   "cell_type": "code",
   "execution_count": 7,
   "id": "11056c68",
   "metadata": {},
   "outputs": [],
   "source": [
    "#deleteing 'days' from the cloumn \n",
    "data['Duration'] = data['Duration'].str.replace(' days', '').astype(int)"
   ]
  },
  {
   "cell_type": "code",
   "execution_count": 8,
   "id": "08e18698",
   "metadata": {},
   "outputs": [],
   "source": [
    "#cost per click\n",
    "data['Cost_per_click'] = data['Acquisition_Cost'] / data['Clicks']"
   ]
  },
  {
   "cell_type": "code",
   "execution_count": 9,
   "id": "6d123188",
   "metadata": {},
   "outputs": [],
   "source": [
    "#Cost per Impression (cpi)\n",
    "data['CPI'] = data['Acquisition_Cost'] / data['Impressions']"
   ]
  },
  {
   "cell_type": "code",
   "execution_count": 10,
   "id": "b284cd17",
   "metadata": {},
   "outputs": [],
   "source": [
    "# Conversion Rate per Click (crpc)\n",
    "data['CRPC'] = data['Conversion_Rate'] / data['Clicks']"
   ]
  },
  {
   "cell_type": "code",
   "execution_count": 11,
   "id": "027c28ea",
   "metadata": {},
   "outputs": [],
   "source": [
    "#Revenue per Click(rpc)\n",
    "data['RPC'] = (data['ROI'] * data['Acquisition_Cost']) / data['Clicks']"
   ]
  },
  {
   "cell_type": "code",
   "execution_count": 12,
   "id": "c30f1fc1",
   "metadata": {},
   "outputs": [],
   "source": [
    "#Engagement per Impression(epi)\n",
    "data['EPI'] = data['Engagement_Score'] / data['Impressions']"
   ]
  },
  {
   "cell_type": "code",
   "execution_count": 13,
   "id": "d0820ebc",
   "metadata": {},
   "outputs": [],
   "source": [
    "#Cost per Conversion\n",
    "data['Cost_per_Conversion'] = data['Acquisition_Cost'] / (data['Conversion_Rate'] * data['Impressions'])"
   ]
  },
  {
   "cell_type": "code",
   "execution_count": 14,
   "id": "40154fa1",
   "metadata": {},
   "outputs": [],
   "source": [
    "#Impressions to Click Ratio (Click-Through Rate)\n",
    "data['CTR'] = data['Clicks'] / data['Impressions']"
   ]
  },
  {
   "cell_type": "code",
   "execution_count": 15,
   "id": "7bd78340",
   "metadata": {},
   "outputs": [],
   "source": [
    "#Engagement to Clicks Ratio(ECR)\n",
    "data['ECR'] = data['Engagement_Score'] / data['Clicks']"
   ]
  },
  {
   "cell_type": "code",
   "execution_count": 16,
   "id": "6fcef5f8",
   "metadata": {},
   "outputs": [
    {
     "data": {
      "text/html": [
       "<div>\n",
       "<style scoped>\n",
       "    .dataframe tbody tr th:only-of-type {\n",
       "        vertical-align: middle;\n",
       "    }\n",
       "\n",
       "    .dataframe tbody tr th {\n",
       "        vertical-align: top;\n",
       "    }\n",
       "\n",
       "    .dataframe thead th {\n",
       "        text-align: right;\n",
       "    }\n",
       "</style>\n",
       "<table border=\"1\" class=\"dataframe\">\n",
       "  <thead>\n",
       "    <tr style=\"text-align: right;\">\n",
       "      <th></th>\n",
       "      <th>Campaign_ID</th>\n",
       "      <th>Company</th>\n",
       "      <th>Campaign_Type</th>\n",
       "      <th>Target_Audience</th>\n",
       "      <th>Duration</th>\n",
       "      <th>Channel_Used</th>\n",
       "      <th>Conversion_Rate</th>\n",
       "      <th>Acquisition_Cost</th>\n",
       "      <th>ROI</th>\n",
       "      <th>Location</th>\n",
       "      <th>Language</th>\n",
       "      <th>Clicks</th>\n",
       "      <th>Impressions</th>\n",
       "      <th>Engagement_Score</th>\n",
       "      <th>Customer_Segment</th>\n",
       "      <th>Date</th>\n",
       "      <th>Cost_per_click</th>\n",
       "      <th>CPI</th>\n",
       "      <th>CRPC</th>\n",
       "      <th>RPC</th>\n",
       "      <th>EPI</th>\n",
       "      <th>Cost_per_Conversion</th>\n",
       "      <th>CTR</th>\n",
       "      <th>ECR</th>\n",
       "    </tr>\n",
       "  </thead>\n",
       "  <tbody>\n",
       "    <tr>\n",
       "      <th>0</th>\n",
       "      <td>1</td>\n",
       "      <td>Innovate Industries</td>\n",
       "      <td>Email</td>\n",
       "      <td>Men 18-24</td>\n",
       "      <td>30</td>\n",
       "      <td>Google Ads</td>\n",
       "      <td>0.04</td>\n",
       "      <td>16174.0</td>\n",
       "      <td>6.29</td>\n",
       "      <td>Chicago</td>\n",
       "      <td>Spanish</td>\n",
       "      <td>506</td>\n",
       "      <td>1922</td>\n",
       "      <td>6</td>\n",
       "      <td>Health &amp; Wellness</td>\n",
       "      <td>2021-01-01</td>\n",
       "      <td>31.964427</td>\n",
       "      <td>8.415193</td>\n",
       "      <td>0.000079</td>\n",
       "      <td>201.056245</td>\n",
       "      <td>0.003122</td>\n",
       "      <td>210.379813</td>\n",
       "      <td>0.263267</td>\n",
       "      <td>0.011858</td>\n",
       "    </tr>\n",
       "    <tr>\n",
       "      <th>1</th>\n",
       "      <td>2</td>\n",
       "      <td>NexGen Systems</td>\n",
       "      <td>Email</td>\n",
       "      <td>Women 35-44</td>\n",
       "      <td>60</td>\n",
       "      <td>Google Ads</td>\n",
       "      <td>0.12</td>\n",
       "      <td>11566.0</td>\n",
       "      <td>5.61</td>\n",
       "      <td>New York</td>\n",
       "      <td>German</td>\n",
       "      <td>116</td>\n",
       "      <td>7523</td>\n",
       "      <td>7</td>\n",
       "      <td>Fashionistas</td>\n",
       "      <td>2021-01-02</td>\n",
       "      <td>99.706897</td>\n",
       "      <td>1.537419</td>\n",
       "      <td>0.001034</td>\n",
       "      <td>559.355690</td>\n",
       "      <td>0.000930</td>\n",
       "      <td>12.811822</td>\n",
       "      <td>0.015419</td>\n",
       "      <td>0.060345</td>\n",
       "    </tr>\n",
       "    <tr>\n",
       "      <th>2</th>\n",
       "      <td>3</td>\n",
       "      <td>Alpha Innovations</td>\n",
       "      <td>Influencer</td>\n",
       "      <td>Men 25-34</td>\n",
       "      <td>30</td>\n",
       "      <td>YouTube</td>\n",
       "      <td>0.07</td>\n",
       "      <td>10200.0</td>\n",
       "      <td>7.18</td>\n",
       "      <td>Los Angeles</td>\n",
       "      <td>French</td>\n",
       "      <td>584</td>\n",
       "      <td>7698</td>\n",
       "      <td>1</td>\n",
       "      <td>Outdoor Adventurers</td>\n",
       "      <td>2021-01-03</td>\n",
       "      <td>17.465753</td>\n",
       "      <td>1.325019</td>\n",
       "      <td>0.000120</td>\n",
       "      <td>125.404110</td>\n",
       "      <td>0.000130</td>\n",
       "      <td>18.928850</td>\n",
       "      <td>0.075864</td>\n",
       "      <td>0.001712</td>\n",
       "    </tr>\n",
       "    <tr>\n",
       "      <th>3</th>\n",
       "      <td>4</td>\n",
       "      <td>DataTech Solutions</td>\n",
       "      <td>Display</td>\n",
       "      <td>All Ages</td>\n",
       "      <td>60</td>\n",
       "      <td>YouTube</td>\n",
       "      <td>0.11</td>\n",
       "      <td>12724.0</td>\n",
       "      <td>5.55</td>\n",
       "      <td>Miami</td>\n",
       "      <td>Mandarin</td>\n",
       "      <td>217</td>\n",
       "      <td>1820</td>\n",
       "      <td>7</td>\n",
       "      <td>Health &amp; Wellness</td>\n",
       "      <td>2021-01-04</td>\n",
       "      <td>58.635945</td>\n",
       "      <td>6.991209</td>\n",
       "      <td>0.000507</td>\n",
       "      <td>325.429493</td>\n",
       "      <td>0.003846</td>\n",
       "      <td>63.556444</td>\n",
       "      <td>0.119231</td>\n",
       "      <td>0.032258</td>\n",
       "    </tr>\n",
       "    <tr>\n",
       "      <th>4</th>\n",
       "      <td>5</td>\n",
       "      <td>NexGen Systems</td>\n",
       "      <td>Email</td>\n",
       "      <td>Men 25-34</td>\n",
       "      <td>15</td>\n",
       "      <td>YouTube</td>\n",
       "      <td>0.05</td>\n",
       "      <td>16452.0</td>\n",
       "      <td>6.50</td>\n",
       "      <td>Los Angeles</td>\n",
       "      <td>Mandarin</td>\n",
       "      <td>379</td>\n",
       "      <td>4201</td>\n",
       "      <td>3</td>\n",
       "      <td>Health &amp; Wellness</td>\n",
       "      <td>2021-01-05</td>\n",
       "      <td>43.408971</td>\n",
       "      <td>3.916210</td>\n",
       "      <td>0.000132</td>\n",
       "      <td>282.158311</td>\n",
       "      <td>0.000714</td>\n",
       "      <td>78.324209</td>\n",
       "      <td>0.090217</td>\n",
       "      <td>0.007916</td>\n",
       "    </tr>\n",
       "    <tr>\n",
       "      <th>5</th>\n",
       "      <td>6</td>\n",
       "      <td>DataTech Solutions</td>\n",
       "      <td>Display</td>\n",
       "      <td>All Ages</td>\n",
       "      <td>15</td>\n",
       "      <td>Instagram</td>\n",
       "      <td>0.07</td>\n",
       "      <td>9716.0</td>\n",
       "      <td>4.36</td>\n",
       "      <td>New York</td>\n",
       "      <td>German</td>\n",
       "      <td>100</td>\n",
       "      <td>1643</td>\n",
       "      <td>1</td>\n",
       "      <td>Foodies</td>\n",
       "      <td>2021-01-06</td>\n",
       "      <td>97.160000</td>\n",
       "      <td>5.913573</td>\n",
       "      <td>0.000700</td>\n",
       "      <td>423.617600</td>\n",
       "      <td>0.000609</td>\n",
       "      <td>84.479610</td>\n",
       "      <td>0.060864</td>\n",
       "      <td>0.010000</td>\n",
       "    </tr>\n",
       "    <tr>\n",
       "      <th>6</th>\n",
       "      <td>7</td>\n",
       "      <td>NexGen Systems</td>\n",
       "      <td>Email</td>\n",
       "      <td>Women 35-44</td>\n",
       "      <td>60</td>\n",
       "      <td>Website</td>\n",
       "      <td>0.13</td>\n",
       "      <td>11067.0</td>\n",
       "      <td>2.86</td>\n",
       "      <td>Los Angeles</td>\n",
       "      <td>Spanish</td>\n",
       "      <td>817</td>\n",
       "      <td>8749</td>\n",
       "      <td>10</td>\n",
       "      <td>Tech Enthusiasts</td>\n",
       "      <td>2021-01-07</td>\n",
       "      <td>13.545900</td>\n",
       "      <td>1.264945</td>\n",
       "      <td>0.000159</td>\n",
       "      <td>38.741273</td>\n",
       "      <td>0.001143</td>\n",
       "      <td>9.730343</td>\n",
       "      <td>0.093382</td>\n",
       "      <td>0.012240</td>\n",
       "    </tr>\n",
       "    <tr>\n",
       "      <th>7</th>\n",
       "      <td>8</td>\n",
       "      <td>DataTech Solutions</td>\n",
       "      <td>Search</td>\n",
       "      <td>Men 18-24</td>\n",
       "      <td>45</td>\n",
       "      <td>Google Ads</td>\n",
       "      <td>0.08</td>\n",
       "      <td>13280.0</td>\n",
       "      <td>5.55</td>\n",
       "      <td>Los Angeles</td>\n",
       "      <td>Mandarin</td>\n",
       "      <td>624</td>\n",
       "      <td>7854</td>\n",
       "      <td>7</td>\n",
       "      <td>Outdoor Adventurers</td>\n",
       "      <td>2021-01-08</td>\n",
       "      <td>21.282051</td>\n",
       "      <td>1.690858</td>\n",
       "      <td>0.000128</td>\n",
       "      <td>118.115385</td>\n",
       "      <td>0.000891</td>\n",
       "      <td>21.135727</td>\n",
       "      <td>0.079450</td>\n",
       "      <td>0.011218</td>\n",
       "    </tr>\n",
       "    <tr>\n",
       "      <th>8</th>\n",
       "      <td>9</td>\n",
       "      <td>Alpha Innovations</td>\n",
       "      <td>Social Media</td>\n",
       "      <td>Women 35-44</td>\n",
       "      <td>15</td>\n",
       "      <td>Facebook</td>\n",
       "      <td>0.09</td>\n",
       "      <td>18066.0</td>\n",
       "      <td>6.73</td>\n",
       "      <td>Chicago</td>\n",
       "      <td>German</td>\n",
       "      <td>861</td>\n",
       "      <td>1754</td>\n",
       "      <td>6</td>\n",
       "      <td>Tech Enthusiasts</td>\n",
       "      <td>2021-01-09</td>\n",
       "      <td>20.982578</td>\n",
       "      <td>10.299886</td>\n",
       "      <td>0.000105</td>\n",
       "      <td>141.212753</td>\n",
       "      <td>0.003421</td>\n",
       "      <td>114.443177</td>\n",
       "      <td>0.490878</td>\n",
       "      <td>0.006969</td>\n",
       "    </tr>\n",
       "    <tr>\n",
       "      <th>9</th>\n",
       "      <td>10</td>\n",
       "      <td>TechCorp</td>\n",
       "      <td>Email</td>\n",
       "      <td>Women 35-44</td>\n",
       "      <td>15</td>\n",
       "      <td>Instagram</td>\n",
       "      <td>0.09</td>\n",
       "      <td>13766.0</td>\n",
       "      <td>3.78</td>\n",
       "      <td>Los Angeles</td>\n",
       "      <td>English</td>\n",
       "      <td>642</td>\n",
       "      <td>3856</td>\n",
       "      <td>3</td>\n",
       "      <td>Tech Enthusiasts</td>\n",
       "      <td>2021-01-10</td>\n",
       "      <td>21.442368</td>\n",
       "      <td>3.570021</td>\n",
       "      <td>0.000140</td>\n",
       "      <td>81.052150</td>\n",
       "      <td>0.000778</td>\n",
       "      <td>39.666897</td>\n",
       "      <td>0.166494</td>\n",
       "      <td>0.004673</td>\n",
       "    </tr>\n",
       "  </tbody>\n",
       "</table>\n",
       "</div>"
      ],
      "text/plain": [
       "   Campaign_ID              Company Campaign_Type Target_Audience  Duration  \\\n",
       "0            1  Innovate Industries         Email       Men 18-24        30   \n",
       "1            2       NexGen Systems         Email     Women 35-44        60   \n",
       "2            3    Alpha Innovations    Influencer       Men 25-34        30   \n",
       "3            4   DataTech Solutions       Display        All Ages        60   \n",
       "4            5       NexGen Systems         Email       Men 25-34        15   \n",
       "5            6   DataTech Solutions       Display        All Ages        15   \n",
       "6            7       NexGen Systems         Email     Women 35-44        60   \n",
       "7            8   DataTech Solutions        Search       Men 18-24        45   \n",
       "8            9    Alpha Innovations  Social Media     Women 35-44        15   \n",
       "9           10             TechCorp         Email     Women 35-44        15   \n",
       "\n",
       "  Channel_Used  Conversion_Rate  Acquisition_Cost   ROI     Location  \\\n",
       "0   Google Ads             0.04           16174.0  6.29      Chicago   \n",
       "1   Google Ads             0.12           11566.0  5.61     New York   \n",
       "2      YouTube             0.07           10200.0  7.18  Los Angeles   \n",
       "3      YouTube             0.11           12724.0  5.55        Miami   \n",
       "4      YouTube             0.05           16452.0  6.50  Los Angeles   \n",
       "5    Instagram             0.07            9716.0  4.36     New York   \n",
       "6      Website             0.13           11067.0  2.86  Los Angeles   \n",
       "7   Google Ads             0.08           13280.0  5.55  Los Angeles   \n",
       "8     Facebook             0.09           18066.0  6.73      Chicago   \n",
       "9    Instagram             0.09           13766.0  3.78  Los Angeles   \n",
       "\n",
       "   Language  Clicks  Impressions  Engagement_Score     Customer_Segment  \\\n",
       "0   Spanish     506         1922                 6    Health & Wellness   \n",
       "1    German     116         7523                 7         Fashionistas   \n",
       "2    French     584         7698                 1  Outdoor Adventurers   \n",
       "3  Mandarin     217         1820                 7    Health & Wellness   \n",
       "4  Mandarin     379         4201                 3    Health & Wellness   \n",
       "5    German     100         1643                 1              Foodies   \n",
       "6   Spanish     817         8749                10     Tech Enthusiasts   \n",
       "7  Mandarin     624         7854                 7  Outdoor Adventurers   \n",
       "8    German     861         1754                 6     Tech Enthusiasts   \n",
       "9   English     642         3856                 3     Tech Enthusiasts   \n",
       "\n",
       "        Date  Cost_per_click        CPI      CRPC         RPC       EPI  \\\n",
       "0 2021-01-01       31.964427   8.415193  0.000079  201.056245  0.003122   \n",
       "1 2021-01-02       99.706897   1.537419  0.001034  559.355690  0.000930   \n",
       "2 2021-01-03       17.465753   1.325019  0.000120  125.404110  0.000130   \n",
       "3 2021-01-04       58.635945   6.991209  0.000507  325.429493  0.003846   \n",
       "4 2021-01-05       43.408971   3.916210  0.000132  282.158311  0.000714   \n",
       "5 2021-01-06       97.160000   5.913573  0.000700  423.617600  0.000609   \n",
       "6 2021-01-07       13.545900   1.264945  0.000159   38.741273  0.001143   \n",
       "7 2021-01-08       21.282051   1.690858  0.000128  118.115385  0.000891   \n",
       "8 2021-01-09       20.982578  10.299886  0.000105  141.212753  0.003421   \n",
       "9 2021-01-10       21.442368   3.570021  0.000140   81.052150  0.000778   \n",
       "\n",
       "   Cost_per_Conversion       CTR       ECR  \n",
       "0           210.379813  0.263267  0.011858  \n",
       "1            12.811822  0.015419  0.060345  \n",
       "2            18.928850  0.075864  0.001712  \n",
       "3            63.556444  0.119231  0.032258  \n",
       "4            78.324209  0.090217  0.007916  \n",
       "5            84.479610  0.060864  0.010000  \n",
       "6             9.730343  0.093382  0.012240  \n",
       "7            21.135727  0.079450  0.011218  \n",
       "8           114.443177  0.490878  0.006969  \n",
       "9            39.666897  0.166494  0.004673  "
      ]
     },
     "execution_count": 16,
     "metadata": {},
     "output_type": "execute_result"
    }
   ],
   "source": [
    "data.head(10)"
   ]
  },
  {
   "cell_type": "code",
   "execution_count": 17,
   "id": "ab1cc537",
   "metadata": {},
   "outputs": [
    {
     "name": "stdout",
     "output_type": "stream",
     "text": [
      "<class 'pandas.core.frame.DataFrame'>\n",
      "RangeIndex: 200000 entries, 0 to 199999\n",
      "Data columns (total 24 columns):\n",
      " #   Column               Non-Null Count   Dtype         \n",
      "---  ------               --------------   -----         \n",
      " 0   Campaign_ID          200000 non-null  int64         \n",
      " 1   Company              200000 non-null  object        \n",
      " 2   Campaign_Type        200000 non-null  object        \n",
      " 3   Target_Audience      200000 non-null  object        \n",
      " 4   Duration             200000 non-null  int32         \n",
      " 5   Channel_Used         200000 non-null  object        \n",
      " 6   Conversion_Rate      200000 non-null  float64       \n",
      " 7   Acquisition_Cost     200000 non-null  float64       \n",
      " 8   ROI                  200000 non-null  float64       \n",
      " 9   Location             200000 non-null  object        \n",
      " 10  Language             200000 non-null  object        \n",
      " 11  Clicks               200000 non-null  int64         \n",
      " 12  Impressions          200000 non-null  int64         \n",
      " 13  Engagement_Score     200000 non-null  int64         \n",
      " 14  Customer_Segment     200000 non-null  object        \n",
      " 15  Date                 200000 non-null  datetime64[ns]\n",
      " 16  Cost_per_click       200000 non-null  float64       \n",
      " 17  CPI                  200000 non-null  float64       \n",
      " 18  CRPC                 200000 non-null  float64       \n",
      " 19  RPC                  200000 non-null  float64       \n",
      " 20  EPI                  200000 non-null  float64       \n",
      " 21  Cost_per_Conversion  200000 non-null  float64       \n",
      " 22  CTR                  200000 non-null  float64       \n",
      " 23  ECR                  200000 non-null  float64       \n",
      "dtypes: datetime64[ns](1), float64(11), int32(1), int64(4), object(7)\n",
      "memory usage: 35.9+ MB\n"
     ]
    }
   ],
   "source": [
    "data.info()"
   ]
  },
  {
   "cell_type": "code",
   "execution_count": 18,
   "id": "d9b322f3",
   "metadata": {},
   "outputs": [
    {
     "data": {
      "text/html": [
       "<div>\n",
       "<style scoped>\n",
       "    .dataframe tbody tr th:only-of-type {\n",
       "        vertical-align: middle;\n",
       "    }\n",
       "\n",
       "    .dataframe tbody tr th {\n",
       "        vertical-align: top;\n",
       "    }\n",
       "\n",
       "    .dataframe thead th {\n",
       "        text-align: right;\n",
       "    }\n",
       "</style>\n",
       "<table border=\"1\" class=\"dataframe\">\n",
       "  <thead>\n",
       "    <tr style=\"text-align: right;\">\n",
       "      <th></th>\n",
       "      <th>Campaign_ID</th>\n",
       "      <th>Duration</th>\n",
       "      <th>Conversion_Rate</th>\n",
       "      <th>Acquisition_Cost</th>\n",
       "      <th>ROI</th>\n",
       "      <th>Clicks</th>\n",
       "      <th>Impressions</th>\n",
       "      <th>Engagement_Score</th>\n",
       "      <th>Cost_per_click</th>\n",
       "      <th>CPI</th>\n",
       "      <th>CRPC</th>\n",
       "      <th>RPC</th>\n",
       "      <th>EPI</th>\n",
       "      <th>Cost_per_Conversion</th>\n",
       "      <th>CTR</th>\n",
       "      <th>ECR</th>\n",
       "    </tr>\n",
       "  </thead>\n",
       "  <tbody>\n",
       "    <tr>\n",
       "      <th>count</th>\n",
       "      <td>200000.000000</td>\n",
       "      <td>200000.000000</td>\n",
       "      <td>200000.000000</td>\n",
       "      <td>200000.000000</td>\n",
       "      <td>200000.000000</td>\n",
       "      <td>200000.000000</td>\n",
       "      <td>200000.000000</td>\n",
       "      <td>200000.000000</td>\n",
       "      <td>200000.000000</td>\n",
       "      <td>200000.000000</td>\n",
       "      <td>200000.000000</td>\n",
       "      <td>200000.000000</td>\n",
       "      <td>200000.000000</td>\n",
       "      <td>200000.000000</td>\n",
       "      <td>200000.000000</td>\n",
       "      <td>200000.000000</td>\n",
       "    </tr>\n",
       "    <tr>\n",
       "      <th>mean</th>\n",
       "      <td>100000.500000</td>\n",
       "      <td>37.503975</td>\n",
       "      <td>0.080070</td>\n",
       "      <td>12504.393040</td>\n",
       "      <td>5.002438</td>\n",
       "      <td>549.772030</td>\n",
       "      <td>5507.301520</td>\n",
       "      <td>5.494710</td>\n",
       "      <td>32.008490</td>\n",
       "      <td>3.193943</td>\n",
       "      <td>0.000205</td>\n",
       "      <td>160.334163</td>\n",
       "      <td>0.001402</td>\n",
       "      <td>63.313228</td>\n",
       "      <td>0.140405</td>\n",
       "      <td>0.014091</td>\n",
       "    </tr>\n",
       "    <tr>\n",
       "      <th>std</th>\n",
       "      <td>57735.171256</td>\n",
       "      <td>16.746720</td>\n",
       "      <td>0.040602</td>\n",
       "      <td>4337.664545</td>\n",
       "      <td>1.734488</td>\n",
       "      <td>260.019056</td>\n",
       "      <td>2596.864286</td>\n",
       "      <td>2.872581</td>\n",
       "      <td>26.926121</td>\n",
       "      <td>2.698980</td>\n",
       "      <td>0.000198</td>\n",
       "      <td>153.655263</td>\n",
       "      <td>0.001363</td>\n",
       "      <td>96.651806</td>\n",
       "      <td>0.130881</td>\n",
       "      <td>0.013736</td>\n",
       "    </tr>\n",
       "    <tr>\n",
       "      <th>min</th>\n",
       "      <td>1.000000</td>\n",
       "      <td>15.000000</td>\n",
       "      <td>0.010000</td>\n",
       "      <td>5000.000000</td>\n",
       "      <td>2.000000</td>\n",
       "      <td>100.000000</td>\n",
       "      <td>1000.000000</td>\n",
       "      <td>1.000000</td>\n",
       "      <td>5.021084</td>\n",
       "      <td>0.501401</td>\n",
       "      <td>0.000010</td>\n",
       "      <td>10.487445</td>\n",
       "      <td>0.000100</td>\n",
       "      <td>3.342676</td>\n",
       "      <td>0.010054</td>\n",
       "      <td>0.001000</td>\n",
       "    </tr>\n",
       "    <tr>\n",
       "      <th>25%</th>\n",
       "      <td>50000.750000</td>\n",
       "      <td>30.000000</td>\n",
       "      <td>0.050000</td>\n",
       "      <td>8739.750000</td>\n",
       "      <td>3.500000</td>\n",
       "      <td>325.000000</td>\n",
       "      <td>3266.000000</td>\n",
       "      <td>3.000000</td>\n",
       "      <td>15.091967</td>\n",
       "      <td>1.508453</td>\n",
       "      <td>0.000082</td>\n",
       "      <td>65.494224</td>\n",
       "      <td>0.000544</td>\n",
       "      <td>18.034073</td>\n",
       "      <td>0.058606</td>\n",
       "      <td>0.005445</td>\n",
       "    </tr>\n",
       "    <tr>\n",
       "      <th>50%</th>\n",
       "      <td>100000.500000</td>\n",
       "      <td>30.000000</td>\n",
       "      <td>0.080000</td>\n",
       "      <td>12496.500000</td>\n",
       "      <td>5.010000</td>\n",
       "      <td>550.000000</td>\n",
       "      <td>5517.500000</td>\n",
       "      <td>5.000000</td>\n",
       "      <td>22.774008</td>\n",
       "      <td>2.269956</td>\n",
       "      <td>0.000145</td>\n",
       "      <td>111.175156</td>\n",
       "      <td>0.000997</td>\n",
       "      <td>33.315114</td>\n",
       "      <td>0.099789</td>\n",
       "      <td>0.010011</td>\n",
       "    </tr>\n",
       "    <tr>\n",
       "      <th>75%</th>\n",
       "      <td>150000.250000</td>\n",
       "      <td>45.000000</td>\n",
       "      <td>0.120000</td>\n",
       "      <td>16264.000000</td>\n",
       "      <td>6.510000</td>\n",
       "      <td>775.000000</td>\n",
       "      <td>7753.000000</td>\n",
       "      <td>8.000000</td>\n",
       "      <td>38.599088</td>\n",
       "      <td>3.837796</td>\n",
       "      <td>0.000249</td>\n",
       "      <td>193.221843</td>\n",
       "      <td>0.001707</td>\n",
       "      <td>68.978203</td>\n",
       "      <td>0.169699</td>\n",
       "      <td>0.017143</td>\n",
       "    </tr>\n",
       "    <tr>\n",
       "      <th>max</th>\n",
       "      <td>200000.000000</td>\n",
       "      <td>60.000000</td>\n",
       "      <td>0.150000</td>\n",
       "      <td>20000.000000</td>\n",
       "      <td>8.000000</td>\n",
       "      <td>1000.000000</td>\n",
       "      <td>10000.000000</td>\n",
       "      <td>10.000000</td>\n",
       "      <td>199.960000</td>\n",
       "      <td>19.896104</td>\n",
       "      <td>0.001500</td>\n",
       "      <td>1536.876000</td>\n",
       "      <td>0.010000</td>\n",
       "      <td>1989.610390</td>\n",
       "      <td>0.992024</td>\n",
       "      <td>0.100000</td>\n",
       "    </tr>\n",
       "  </tbody>\n",
       "</table>\n",
       "</div>"
      ],
      "text/plain": [
       "         Campaign_ID       Duration  Conversion_Rate  Acquisition_Cost  \\\n",
       "count  200000.000000  200000.000000    200000.000000     200000.000000   \n",
       "mean   100000.500000      37.503975         0.080070      12504.393040   \n",
       "std     57735.171256      16.746720         0.040602       4337.664545   \n",
       "min         1.000000      15.000000         0.010000       5000.000000   \n",
       "25%     50000.750000      30.000000         0.050000       8739.750000   \n",
       "50%    100000.500000      30.000000         0.080000      12496.500000   \n",
       "75%    150000.250000      45.000000         0.120000      16264.000000   \n",
       "max    200000.000000      60.000000         0.150000      20000.000000   \n",
       "\n",
       "                 ROI         Clicks    Impressions  Engagement_Score  \\\n",
       "count  200000.000000  200000.000000  200000.000000     200000.000000   \n",
       "mean        5.002438     549.772030    5507.301520          5.494710   \n",
       "std         1.734488     260.019056    2596.864286          2.872581   \n",
       "min         2.000000     100.000000    1000.000000          1.000000   \n",
       "25%         3.500000     325.000000    3266.000000          3.000000   \n",
       "50%         5.010000     550.000000    5517.500000          5.000000   \n",
       "75%         6.510000     775.000000    7753.000000          8.000000   \n",
       "max         8.000000    1000.000000   10000.000000         10.000000   \n",
       "\n",
       "       Cost_per_click            CPI           CRPC            RPC  \\\n",
       "count   200000.000000  200000.000000  200000.000000  200000.000000   \n",
       "mean        32.008490       3.193943       0.000205     160.334163   \n",
       "std         26.926121       2.698980       0.000198     153.655263   \n",
       "min          5.021084       0.501401       0.000010      10.487445   \n",
       "25%         15.091967       1.508453       0.000082      65.494224   \n",
       "50%         22.774008       2.269956       0.000145     111.175156   \n",
       "75%         38.599088       3.837796       0.000249     193.221843   \n",
       "max        199.960000      19.896104       0.001500    1536.876000   \n",
       "\n",
       "                 EPI  Cost_per_Conversion            CTR            ECR  \n",
       "count  200000.000000        200000.000000  200000.000000  200000.000000  \n",
       "mean        0.001402            63.313228       0.140405       0.014091  \n",
       "std         0.001363            96.651806       0.130881       0.013736  \n",
       "min         0.000100             3.342676       0.010054       0.001000  \n",
       "25%         0.000544            18.034073       0.058606       0.005445  \n",
       "50%         0.000997            33.315114       0.099789       0.010011  \n",
       "75%         0.001707            68.978203       0.169699       0.017143  \n",
       "max         0.010000          1989.610390       0.992024       0.100000  "
      ]
     },
     "execution_count": 18,
     "metadata": {},
     "output_type": "execute_result"
    }
   ],
   "source": [
    "data.describe()"
   ]
  },
  {
   "cell_type": "markdown",
   "id": "48c3eeee",
   "metadata": {},
   "source": [
    "# Correlation Analysis"
   ]
  },
  {
   "cell_type": "code",
   "execution_count": 19,
   "id": "3e6ada0b",
   "metadata": {},
   "outputs": [
    {
     "data": {
      "image/png": "[encoded data removed]",
      "text/plain": [
       "<Figure size 800x500 with 2 Axes>"
      ]
     },
     "metadata": {},
     "output_type": "display_data"
    }
   ],
   "source": [
    "#Correlation Analysis\n",
    "correlation_matrix = data[['Cost_per_click', 'RPC', 'Cost_per_Conversion', 'CTR']].corr()\n",
    "plt.figure(figsize=(8, 5))\n",
    "sns.heatmap(correlation_matrix, annot=True, cmap='coolwarm')\n",
    "plt.title('Correlation Analysis')\n",
    "plt.show()"
   ]
  },
  {
   "cell_type": "markdown",
   "id": "51c93c14",
   "metadata": {},
   "source": [
    "# Campaign Performance Analysis"
   ]
  },
  {
   "cell_type": "code",
   "execution_count": 20,
   "id": "303880e0",
   "metadata": {},
   "outputs": [
    {
     "name": "stdout",
     "output_type": "stream",
     "text": [
      "  Campaign_Type       ROI\n",
      "0       Display  5.006551\n",
      "1         Email  4.994295\n",
      "2    Influencer  5.011068\n",
      "3        Search  5.008357\n",
      "4  Social Media  4.991784\n"
     ]
    }
   ],
   "source": [
    "#Average ROI\n",
    "\n",
    "average_roi = data.groupby('Campaign_Type').agg({'ROI': 'mean'}).reset_index()\n",
    "print(average_roi)"
   ]
  },
  {
   "cell_type": "code",
   "execution_count": 21,
   "id": "fa31d8f9",
   "metadata": {},
   "outputs": [
    {
     "name": "stdout",
     "output_type": "stream",
     "text": [
      "  Campaign_Type  Conversion_Rate\n",
      "0       Display         0.080089\n",
      "1         Email         0.079788\n",
      "2    Influencer         0.080315\n",
      "3        Search         0.080021\n",
      "4  Social Media         0.080135\n"
     ]
    }
   ],
   "source": [
    "#Average conversion rate by campaign type \n",
    "\n",
    "average_coversion_rate = data.groupby('Campaign_Type').agg({'Conversion_Rate': 'mean'}).reset_index()\n",
    "print(average_coversion_rate)"
   ]
  },
  {
   "cell_type": "code",
   "execution_count": 22,
   "id": "d8f12f0d",
   "metadata": {},
   "outputs": [
    {
     "name": "stdout",
     "output_type": "stream",
     "text": [
      "  Campaign_Type  Acquisition_Cost      Clicks\n",
      "0       Display      12508.034461  550.953535\n",
      "1         Email      12495.346100  549.232556\n",
      "2    Influencer      12507.170330  548.623491\n",
      "3        Search      12498.736459  548.650148\n",
      "4  Social Media      12512.698094  551.415827\n"
     ]
    }
   ],
   "source": [
    "#Average Acquisition Cost and Clicks\n",
    "\n",
    "cost_analysis = data.groupby(\"Campaign_Type\").agg({'Acquisition_Cost': 'mean','Clicks' : 'mean'}).reset_index()\n",
    "print(cost_analysis)"
   ]
  },
  {
   "cell_type": "code",
   "execution_count": 23,
   "id": "9ae1fb9d",
   "metadata": {},
   "outputs": [
    {
     "name": "stdout",
     "output_type": "stream",
     "text": [
      "  Campaign_Type  Cost_per_click\n",
      "0       Display       31.923675\n",
      "1         Email       32.039639\n",
      "2    Influencer       32.102571\n",
      "3        Search       31.960865\n",
      "4  Social Media       32.015596\n"
     ]
    }
   ],
   "source": [
    "#Cost per Click (CPC) Analysis\n",
    "\n",
    "cpc_analysis = data.groupby('Campaign_Type').agg({'Cost_per_click': 'mean'}).reset_index()\n",
    "print(cpc_analysis)"
   ]
  },
  {
   "cell_type": "code",
   "execution_count": 24,
   "id": "10005c81",
   "metadata": {},
   "outputs": [
    {
     "name": "stdout",
     "output_type": "stream",
     "text": [
      "  Campaign_Type       CPI\n",
      "0       Display  3.201639\n",
      "1         Email  3.174041\n",
      "2    Influencer  3.200984\n",
      "3        Search  3.187726\n",
      "4  Social Media  3.205308\n"
     ]
    }
   ],
   "source": [
    "#Cost per Impression Analysis\n",
    "\n",
    "cpi_analysis = data.groupby('Campaign_Type').agg({'CPI': 'mean'}).reset_index()\n",
    "print(cpi_analysis)"
   ]
  },
  {
   "cell_type": "code",
   "execution_count": 25,
   "id": "df8767ed",
   "metadata": {},
   "outputs": [
    {
     "name": "stdout",
     "output_type": "stream",
     "text": [
      "  Campaign_Type      CRPC\n",
      "0       Display  0.000205\n",
      "1         Email  0.000205\n",
      "2    Influencer  0.000206\n",
      "3        Search  0.000205\n",
      "4  Social Media  0.000205\n"
     ]
    }
   ],
   "source": [
    "#Conversion Rate per Click (CRPC) Analysis\n",
    "\n",
    "crpc_analysis = data.groupby('Campaign_Type').agg({'CRPC': 'mean'}).reset_index()\n",
    "print(crpc_analysis)"
   ]
  },
  {
   "cell_type": "code",
   "execution_count": 26,
   "id": "10f0d70d",
   "metadata": {},
   "outputs": [
    {
     "name": "stdout",
     "output_type": "stream",
     "text": [
      "  Campaign_Type         RPC\n",
      "0       Display  160.047953\n",
      "1         Email  160.264490\n",
      "2    Influencer  161.070775\n",
      "3        Search  160.015563\n",
      "4  Social Media  160.269557\n"
     ]
    }
   ],
   "source": [
    "#Revenue per Click Analysis\n",
    "\n",
    "rpc_analysis = data.groupby('Campaign_Type').agg({'RPC': 'mean'}).reset_index()\n",
    "print(rpc_analysis)"
   ]
  },
  {
   "cell_type": "code",
   "execution_count": 27,
   "id": "7f4338e3",
   "metadata": {},
   "outputs": [
    {
     "name": "stdout",
     "output_type": "stream",
     "text": [
      "  Campaign_Type  Cost_per_Conversion\n",
      "0       Display            64.058286\n",
      "1         Email            63.637292\n",
      "2    Influencer            63.139284\n",
      "3        Search            62.864450\n",
      "4  Social Media            62.868586\n"
     ]
    }
   ],
   "source": [
    "#Cost per Conversion Analysis\n",
    "\n",
    "cost_per_conversion_analysis = data.groupby('Campaign_Type').agg({'Cost_per_Conversion': 'mean'}).reset_index()\n",
    "print(cost_per_conversion_analysis)"
   ]
  },
  {
   "cell_type": "code",
   "execution_count": 28,
   "id": "a902772d",
   "metadata": {},
   "outputs": [
    {
     "name": "stdout",
     "output_type": "stream",
     "text": [
      "  Campaign_Type       CTR\n",
      "0       Display  0.141265\n",
      "1         Email  0.139489\n",
      "2    Influencer  0.140300\n",
      "3        Search  0.139936\n",
      "4  Social Media  0.141041\n"
     ]
    }
   ],
   "source": [
    "#Click-Through Rate (CTR) Analysis\n",
    "\n",
    "ctr_analysis = data.groupby('Campaign_Type').agg({'CTR': 'mean'}).reset_index()\n",
    "print(ctr_analysis)"
   ]
  },
  {
   "cell_type": "code",
   "execution_count": 29,
   "id": "fffcf55c",
   "metadata": {},
   "outputs": [
    {
     "name": "stdout",
     "output_type": "stream",
     "text": [
      "  Campaign_Type       ECR\n",
      "0       Display  0.014030\n",
      "1         Email  0.014083\n",
      "2    Influencer  0.014176\n",
      "3        Search  0.014093\n",
      "4  Social Media  0.014071\n"
     ]
    }
   ],
   "source": [
    "#Engagement to Clicks Analysis\n",
    "\n",
    "engagement_clicks_analysis = data.groupby('Campaign_Type').agg({'ECR': 'mean'}).reset_index()\n",
    "print(engagement_clicks_analysis)"
   ]
  },
  {
   "cell_type": "markdown",
   "id": "76826ec7",
   "metadata": {},
   "source": [
    "# Target Audience Analysis"
   ]
  },
  {
   "cell_type": "code",
   "execution_count": 30,
   "id": "692b5a4c",
   "metadata": {},
   "outputs": [
    {
     "name": "stdout",
     "output_type": "stream",
     "text": [
      "  Target_Audience       ROI  Conversion_Rate  Acquisition_Cost      Clicks\n",
      "0        All Ages  5.005174         0.079975      12501.914915  548.871811\n",
      "1       Men 18-24  4.982853         0.080240      12523.299195  548.879775\n",
      "2       Men 25-34  5.020627         0.080132      12480.618344  550.042176\n",
      "3     Women 25-34  4.997351         0.079899      12500.490940  551.112064\n",
      "4     Women 35-44  5.006330         0.080102      12515.623857  549.961398\n"
     ]
    }
   ],
   "source": [
    "# Audience Insights: Performance by Target Audience\n",
    "\n",
    "audience_insight = data.groupby('Target_Audience').agg(\n",
    "    {'ROI': 'mean','Conversion_Rate': 'mean','Acquisition_Cost': 'mean','Clicks' : 'mean'}).reset_index()\n",
    "print(audience_insight)"
   ]
  },
  {
   "cell_type": "markdown",
   "id": "81bac95a",
   "metadata": {},
   "source": [
    "# Monthly ROI Trends"
   ]
  },
  {
   "cell_type": "code",
   "execution_count": 31,
   "id": "5f9fa5f6",
   "metadata": {},
   "outputs": [
    {
     "name": "stdout",
     "output_type": "stream",
     "text": [
      "      Month       ROI\n",
      "0   2021-01  5.014595\n",
      "1   2021-02  5.005248\n",
      "2   2021-03  4.983404\n",
      "3   2021-04  4.994372\n",
      "4   2021-05  5.018923\n",
      "5   2021-06  4.985203\n",
      "6   2021-07  4.983045\n",
      "7   2021-08  4.997793\n",
      "8   2021-09  5.029044\n",
      "9   2021-10  5.016445\n",
      "10  2021-11  4.999271\n",
      "11  2021-12  5.002122\n"
     ]
    },
    {
     "data": {
      "image/png": "[encoded data removed]",
      "text/plain": [
       "<Figure size 1200x600 with 1 Axes>"
      ]
     },
     "metadata": {},
     "output_type": "display_data"
    }
   ],
   "source": [
    "# Average Monthly ROI from Campaigns\n",
    "\n",
    "data['Month'] = data['Date'].dt.to_period('M')\n",
    "monthly_revenue = data.groupby('Month').agg({'ROI': 'mean'}).reset_index()\n",
    "\n",
    "print(monthly_revenue)\n",
    "\n",
    "data['Month_Year'] = data['Date'].dt.to_period('M')\n",
    "roi_over_time = data.groupby('Month_Year')['ROI'].mean().reset_index()\n",
    "roi_over_time['Month_Year'] = roi_over_time['Month_Year'].astype(str)\n",
    "\n",
    "\n",
    "plt.figure(figsize=(12, 6))\n",
    "plt.plot(roi_over_time['Month_Year'], roi_over_time['ROI'])\n",
    "plt.title('ROI Over Time')\n",
    "plt.xlabel('Month-Year')\n",
    "plt.ylabel('Average ROI')\n",
    "plt.xticks(rotation=45)\n",
    "plt.tight_layout()\n",
    "plt.show()"
   ]
  },
  {
   "cell_type": "markdown",
   "id": "0dc4b11c",
   "metadata": {},
   "source": [
    "# Location Based Analysis"
   ]
  },
  {
   "cell_type": "code",
   "execution_count": 32,
   "id": "15f2b4c3",
   "metadata": {},
   "outputs": [
    {
     "name": "stdout",
     "output_type": "stream",
     "text": [
      "      Location       ROI  Conversion_Rate    Clicks\n",
      "0      Chicago  5.001590         0.080134  21978398\n",
      "1      Houston  5.007203         0.079948  21892547\n",
      "2  Los Angeles  5.010876         0.080013  21966553\n",
      "3        Miami  5.012282         0.080047  22056765\n",
      "4     New York  4.980228         0.080204  22060143\n"
     ]
    }
   ],
   "source": [
    "#Performance by Location\n",
    "\n",
    "location_analysis = data.groupby('Location').agg({'ROI': 'mean','Conversion_Rate': 'mean','Clicks': 'sum'}).reset_index()\n",
    "print(location_analysis)"
   ]
  },
  {
   "cell_type": "markdown",
   "id": "4c1404d6",
   "metadata": {},
   "source": [
    "# Language Based Analysis"
   ]
  },
  {
   "cell_type": "code",
   "execution_count": 33,
   "id": "8d66ce78",
   "metadata": {},
   "outputs": [
    {
     "name": "stdout",
     "output_type": "stream",
     "text": [
      "   Language       ROI    Clicks\n",
      "0   English  4.990734  21956976\n",
      "1    French  5.011375  21893746\n",
      "2    German  5.001054  21940052\n",
      "3  Mandarin  5.007313  22138254\n",
      "4   Spanish  5.001705  22025378\n"
     ]
    }
   ],
   "source": [
    "# Performance by Language\n",
    "\n",
    "language_analysis = data.groupby('Language').agg({'ROI': 'mean','Clicks': 'sum'}).reset_index()\n",
    "print(language_analysis)"
   ]
  },
  {
   "cell_type": "markdown",
   "id": "aa7cc4f4",
   "metadata": {},
   "source": [
    "# Engagement Analysis"
   ]
  },
  {
   "cell_type": "code",
   "execution_count": 34,
   "id": "badb9d25",
   "metadata": {},
   "outputs": [
    {
     "name": "stdout",
     "output_type": "stream",
     "text": [
      "  Channel_Used       EPI\n",
      "0        Email  0.001401\n",
      "1     Facebook  0.001407\n",
      "2   Google Ads  0.001388\n",
      "3    Instagram  0.001397\n",
      "4      Website  0.001410\n",
      "5      YouTube  0.001408\n"
     ]
    }
   ],
   "source": [
    "#Engagement per Impression Analysis\n",
    "engagement_analysis = data.groupby('Channel_Used').agg({'EPI': 'mean'}).reset_index()\n",
    "print(engagement_analysis)"
   ]
  },
  {
   "cell_type": "markdown",
   "id": "4fe33411",
   "metadata": {},
   "source": [
    "# Customer Segment"
   ]
  },
  {
   "cell_type": "code",
   "execution_count": 35,
   "id": "7021b859",
   "metadata": {},
   "outputs": [
    {
     "name": "stdout",
     "output_type": "stream",
     "text": [
      "      Customer_Segment       ROI    Clicks  Acquisition_Cost\n",
      "0         Fashionistas  5.000962  21855164      12503.445574\n",
      "1              Foodies  5.004376  22080774      12524.558148\n",
      "2    Health & Wellness  5.003202  21953923      12504.418346\n",
      "3  Outdoor Adventurers  4.999393  22028553      12509.128540\n",
      "4     Tech Enthusiasts  5.004234  22035992      12480.392991\n"
     ]
    }
   ],
   "source": [
    "#Customer Segment-Based Analysis\n",
    "segment_analysis = data.groupby('Customer_Segment').agg(\n",
    "    {'ROI': 'mean', 'Clicks': 'sum', 'Acquisition_Cost': 'mean'}).reset_index()\n",
    "print(segment_analysis)"
   ]
  },
  {
   "cell_type": "markdown",
   "id": "b3cc2f6f",
   "metadata": {},
   "source": [
    "# Channel Analysis"
   ]
  },
  {
   "cell_type": "code",
   "execution_count": 36,
   "id": "3ec69797",
   "metadata": {},
   "outputs": [
    {
     "data": {
      "image/png": "[encoded data removed]",
      "text/plain": [
       "<Figure size 1000x600 with 1 Axes>"
      ]
     },
     "metadata": {},
     "output_type": "display_data"
    }
   ],
   "source": [
    "# Conversion Rate by Channel Used\n",
    "plt.figure(figsize=(10, 6))\n",
    "sns.boxplot(x='Channel_Used', y='Conversion_Rate', data=data)\n",
    "plt.title('Conversion Rate Distribution by Channel')\n",
    "plt.ylabel('Conversion Rate')\n",
    "plt.xticks(rotation=45)\n",
    "plt.show()"
   ]
  }
 ],
 "metadata": {
  "kernelspec": {
   "display_name": "Python 3 (ipykernel)",
   "language": "python",
   "name": "python3"
  },
  "language_info": {
   "codemirror_mode": {
    "name": "ipython",
    "version": 3
   },
   "file_extension": ".py",
   "mimetype": "text/x-python",
   "name": "python",
   "nbconvert_exporter": "python",
   "pygments_lexer": "ipython3",
   "version": "3.10.9"
  }
 },
 "nbformat": 4,
 "nbformat_minor": 5
}
